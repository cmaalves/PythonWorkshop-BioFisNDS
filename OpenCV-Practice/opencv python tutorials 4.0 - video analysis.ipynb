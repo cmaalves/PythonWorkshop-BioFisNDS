{
 "metadata": {
  "name": "",
  "signature": "sha256:062954dd026112e7afc30a6ad1d8cf8ad328530cc2883f9c7cf811c4df070e5d"
 },
 "nbformat": 3,
 "nbformat_minor": 0,
 "worksheets": [
  {
   "cells": [
    {
     "cell_type": "code",
     "collapsed": false,
     "input": [
      "import cv2\n",
      "import numpy as np\n",
      "import matplotlib.pyplot as plt\n",
      "from skimage import io\n",
      "from numpy import fft\n",
      "\n",
      "from IPython.html import widgets\n",
      "\n",
      "%matplotlib inline"
     ],
     "language": "python",
     "metadata": {},
     "outputs": [],
     "prompt_number": 4
    },
    {
     "cell_type": "markdown",
     "metadata": {},
     "source": [
      "## Video analysis in OpenCV"
     ]
    },
    {
     "cell_type": "code",
     "collapsed": false,
     "input": [],
     "language": "python",
     "metadata": {},
     "outputs": []
    }
   ],
   "metadata": {}
  }
 ]
}