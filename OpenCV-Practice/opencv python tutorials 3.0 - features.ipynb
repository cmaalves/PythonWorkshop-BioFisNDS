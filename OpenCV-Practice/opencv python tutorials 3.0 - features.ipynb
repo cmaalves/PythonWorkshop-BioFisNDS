{
 "metadata": {
  "name": "",
  "signature": "sha256:6ed711654df5389bd413d95bdf6a2cfccb29cb58bde40e00297ee73fdbb73107"
 },
 "nbformat": 3,
 "nbformat_minor": 0,
 "worksheets": [
  {
   "cells": [
    {
     "cell_type": "code",
     "collapsed": false,
     "input": [
      "import cv2\n",
      "import numpy as np\n",
      "import matplotlib.pyplot as plt\n",
      "from skimage import io\n",
      "from numpy import fft\n",
      "\n",
      "from IPython.html import widgets\n",
      "\n",
      "%matplotlib inline"
     ],
     "language": "python",
     "metadata": {},
     "outputs": [],
     "prompt_number": 1
    },
    {
     "cell_type": "markdown",
     "metadata": {},
     "source": [
      "## Image Processing in OpenCV\n",
      "- [resource](http://docs.opencv.org/trunk/doc/py_tutorials/py_feature2d/py_table_of_contents_feature2d/py_table_of_contents_feature2d.html#py-table-of-content-feature2d)\n",
      "\n",
      "## Image Features\n",
      "- most existing features are based on edges or corners\n",
      "- after detecting them, it boils down to describing them in a flexible way\n",
      "- you can use these descriptors to compare different features/regions"
     ]
    },
    {
     "cell_type": "code",
     "collapsed": false,
     "input": [],
     "language": "python",
     "metadata": {},
     "outputs": []
    }
   ],
   "metadata": {}
  }
 ]
}