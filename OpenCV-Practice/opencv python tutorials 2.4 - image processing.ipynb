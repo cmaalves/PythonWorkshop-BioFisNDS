{
 "metadata": {
  "name": "",
  "signature": "sha256:f60d5a03982406f8a179b4dfa78233b9acdd9362196a5d180134d5488561a87c"
 },
 "nbformat": 3,
 "nbformat_minor": 0,
 "worksheets": [
  {
   "cells": [
    {
     "cell_type": "code",
     "collapsed": false,
     "input": [
      "import cv2\n",
      "import numpy as np\n",
      "import matplotlib.pyplot as plt\n",
      "from skimage import io\n",
      "\n",
      "from IPython.html import widgets\n",
      "\n",
      "%matplotlib inline"
     ],
     "language": "python",
     "metadata": {},
     "outputs": [],
     "prompt_number": 2
    },
    {
     "cell_type": "markdown",
     "metadata": {},
     "source": [
      "## Image Processing in OpenCV\n",
      "- [resource](http://docs.opencv.org/trunk/doc/py_tutorials/py_imgproc/py_table_of_contents_imgproc/py_table_of_contents_imgproc.html#py-table-of-content-imgproc)\n",
      "\n",
      "### topics covered\n",
      "- Image Pyramids"
     ]
    },
    {
     "cell_type": "markdown",
     "metadata": {},
     "source": [
      "### Image Pyramids \n",
      "\n",
      "A pyramid of images is a series of the same images with different resolutions (lower-resolution on the top). It is useful for image blending like below\n",
      "\n",
      "<img src=\"http://docs.opencv.org/trunk/_images/orapple.jpg\" />"
     ]
    },
    {
     "cell_type": "code",
     "collapsed": false,
     "input": [],
     "language": "python",
     "metadata": {},
     "outputs": []
    }
   ],
   "metadata": {}
  }
 ]
}