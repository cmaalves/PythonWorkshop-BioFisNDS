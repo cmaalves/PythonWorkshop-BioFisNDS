{
 "metadata": {
  "name": "",
  "signature": "sha256:55727655ee483e17a740d63b8a1518a708e223006ff54ab99a0eb2e4c6b4a791"
 },
 "nbformat": 3,
 "nbformat_minor": 0,
 "worksheets": [
  {
   "cells": [
    {
     "cell_type": "markdown",
     "metadata": {},
     "source": [
      "## Useful Online Articles\n",
      "- [pyimagesearch](http://www.pyimagesearch.com/)\n",
      "- [Software Ideas](http://dimitri-christodoulou.blogspot.sg/)\n",
      "- [yhat blog](http://blog.yhathq.com/)\n",
      "- [Image Processing Learning Resources - HIPR2](http://homepages.inf.ed.ac.uk/rbf/HIPR2/)"
     ]
    },
    {
     "cell_type": "code",
     "collapsed": false,
     "input": [],
     "language": "python",
     "metadata": {},
     "outputs": []
    }
   ],
   "metadata": {}
  }
 ]
}