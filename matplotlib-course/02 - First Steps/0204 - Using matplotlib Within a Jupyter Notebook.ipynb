{
 "cells": [
  {
   "cell_type": "markdown",
   "metadata": {},
   "source": [
    "## Introduction\n",
    "\n",
    "In this lesson we'll see how to use matplotlib within a Jupyter notebook.\n",
    "\n",
    "## What is Jupyter?\n",
    "\n",
    "For those of you not already familiar with the Jupyter and IPython projects, Jupyter is a web-based application that allows you to create living documents that contain live code, mathematical equations, explanatory text, visualizations, and even interactive widgets. The real power of these documents is that they make it extremely easy to share your findings with other researchers. By sharing your Jupyter notebooks, your peers will be able to easily reproduce your research, thereby verifying your discoveries, and also fostering a much more collaborative environment amongst your colleagues.\n",
    "\n",
    "Now, a Jupyter notebook has the capacity to work with a multitude of programming languages, in this course, however, we'll be using it with python via an IPython kernel. \n",
    "\n",
    "## What is IPython?\n",
    "\n",
    "IPython is a powerful interactive python shell that started life as a simple afternoon hack, but has since become increasingly powerful and popular, and even includes tools for doing things such as high performance parallel computing. For us though, its most important feature is that it provides a kernel for running within a Jupyter notebook, the combination of which I will be referring to, from here on out, as both a Jupyter and an IPython notebook interchangeably.\n",
    "\n",
    "## Running a Jupyter Notebook\n",
    "\n",
    "Installing everything you need to run a Jupyter notebook is super simple. First, open up a terminal and activate your `mpl` environment---this assumes that you followed the instructions for setting up your environment for the course. Then, we can use the `conda` package manager to install IPython and Jupyter. Just type `conda install jupyter` and hit enter.\n",
    "\n",
    "Once you have everything installed, you can fire up the notebook server by running the `jupyter` command line script and passing it the `notebook` option. This will start up a Tornado web server that runs the Jupyter notebook web application. Once that starts up, it will open a new window in your default web browser and point it at the notebook server.\n",
    "\n",
    "The Jupyter notebook main page will list everything in the current folder, and on the right-hand side of the page you'll see a dropdown with the text \"New\" in it. Click on that dropdown to see a list of options, one of which will be \"Python 2\" (or 3, depending on which version of Python you're currently running). Go ahead and click on that link to create a new notebook.\n",
    "\n",
    "At this point, you can run any number of python commands here and see their output right in the browser. As an example, let’s just do a little bit of simple math here. We’ll set the variable `answer` equal to `1 + 2`, and then print out the text `\"1 + 2 is”` followed by the `answer` from our last line of code. Then if we hit `Shift-Enter` to execute the current cell, we can see the result of our simple little bit of code."
   ]
  },
  {
   "cell_type": "code",
   "execution_count": 1,
   "metadata": {
    "collapsed": false
   },
   "outputs": [
    {
     "name": "stdout",
     "output_type": "stream",
     "text": [
      "1 + 2 is 3\n"
     ]
    }
   ],
   "source": [
    "answer = 1 + 2\n",
    "print \"1 + 2 is\", answer"
   ]
  },
  {
   "cell_type": "markdown",
   "metadata": {},
   "source": [
    "## Setting Up the Notebook\n",
    "\n",
    "While running python from within the browser is cool enough, the point of this lesson is to see how we can use matplotlib to visualize data in an IPython notebook.\n",
    "\n",
    "Luckily, IPython makes it super easy to get our matplotlib output to display from within the notebook. It does so through one of its built-in commands called `%matplotlib`---incidentally, IPython refers to these built-in commands as “magic functions”. \n",
    "\n",
    "So, let’s go ahead and call the `%matplotlib` magic function now and pass it the `inline` argument to make sure that it displays all matplotlib output in the notebook instead of an external window.\n",
    "\n",
    "## Keyboard Shortcuts\n",
    "\n",
    "To run this command, you have a few options. First, you can click on the \"Cell\" menu, in the menubar above, and select \"Run\", but honestly that's a bit cumbersome in an interactive coding session. Fortunately, Jupyter notebooks have a plethora of keyboard shortcuts that we can use to make interacting with our code faster and more enjoyable. \n",
    "\n",
    "A Jupyter notebook gives us three keyboard shortcuts that we can use to execute the code in a cell. The first is `Ctrl-Enter`, and it will simply execute the code for us in place. The second is `Shift-Enter`, which will run the code and advance to the next cell, or if there is no next cell, it will go and create one for us before advancing to it. Finally, we can hit `Alt-Enter` to run the current cell, insert a new cell below it, and advance to it. So, choose whichever option you want, and execute the following line to setup your notebook."
   ]
  },
  {
   "cell_type": "code",
   "execution_count": 2,
   "metadata": {
    "collapsed": true
   },
   "outputs": [],
   "source": [
    "%matplotlib inline"
   ]
  },
  {
   "cell_type": "markdown",
   "metadata": {},
   "source": [
    "While the `%matplotlib` function sets up our notebook to display the output from matplotlib, it does not automatically import the matplotlib library for us, so we'll still have to do that before we can interact with it. So, the next step is to import the `pyplot` module from `matplotlib` with the following command."
   ]
  },
  {
   "cell_type": "code",
   "execution_count": 3,
   "metadata": {
    "collapsed": false
   },
   "outputs": [],
   "source": [
    "import matplotlib.pyplot as plt"
   ]
  },
  {
   "cell_type": "markdown",
   "metadata": {},
   "source": [
    "Now that our notebook is properly set up and we've imported the matplotlib library, we're ready to start plotting. So, let's go ahead and try a simple plot now. \n",
    "\n",
    "We're going to plot a straight line using the`pyplot.plot` function and the `range` built-in to create our data. \n",
    "\n",
    "In the next cell, type `plt.plot(range(10))`, and execute the cell, and you should see a simple linear plot show up right below the code that we just executed."
   ]
  },
  {
   "cell_type": "code",
   "execution_count": 4,
   "metadata": {
    "collapsed": false,
    "scrolled": true
   },
   "outputs": [
    {
     "data": {
      "text/plain": [
       "[<matplotlib.lines.Line2D at 0x10cccea50>]"
      ]
     },
     "execution_count": 4,
     "metadata": {},
     "output_type": "execute_result"
    },
    {
     "data": {
      "image/png": "[encoded data removed]",
      "text/plain": [
       "<matplotlib.figure.Figure at 0x10a7b61d0>"
      ]
     },
     "metadata": {},
     "output_type": "display_data"
    }
   ],
   "source": [
    "plt.plot(range(10))"
   ]
  },
  {
   "cell_type": "markdown",
   "metadata": {},
   "source": [
    "## Jupyter Notebook Modes\n",
    "\n",
    "And, that’s it, you’ve just seen how to get matplotlib to work with an IPython notebook. But, before we finish out this lesson, there are a few more things I'd like to go over that will make working with Jupyter notebooks a bit nicer. \n",
    "\n",
    "First, you should understand that Jupyter notebooks have two main modes in which they operate: 'edit' mode, and 'command' mode. In 'edit' mode, you can edit the text within a cell. To enter 'edit' mode just navigate to the cell that you want to edit and hit 'Enter', or double click within the cell. \n",
    "\n",
    "Now, the term 'command mode' is a bit of a misnomer since the 'edit' mode has its own set of commands. The difference is that commands in 'command' mode operate at the notebook level, whereas commands in 'edit' mode mainly operate on the current cell. To enter 'command' mode, just press the 'Escape' key. \n",
    "\n",
    "To see a list of all the commands available for each mode, and their corresponding keyboard shortcuts, hit `Ctrl-m h` and a dialog will appear with a list of everything. To exit back out to the notebook, just hit the Escape key.\n",
    "\n",
    "## Retina Screens\n",
    "\n",
    "The last thing that I want to cover before we end this lesson is using matplotlib on a retina enabled device. If, like me, you're on a mac that has a retina screen, you may have noticed that the plot above looks a tad bit fuzzy. If you've run into this issue, fear not, IPython provides a function that allows you to specify the output formats that you want to support, and one of those just happens to be the 'retina' format. \n",
    "\n",
    "To add support for retina output, you'll have to import a function called `set_matplotlib_formats` from the `IPython.display` module. Then call it and pass in the string `'retina'`. Once you've executed the `set_matplotlib_formats` function, you should be able to rerun the example plot that we created above and now see it print out in full retina glory!"
   ]
  },
  {
   "cell_type": "code",
   "execution_count": 5,
   "metadata": {
    "collapsed": false
   },
   "outputs": [
    {
     "data": {
      "text/plain": [
       "[<matplotlib.lines.Line2D at 0x10d003f90>]"
      ]
     },
     "execution_count": 5,
     "metadata": {},
     "output_type": "execute_result"
    },
    {
     "data": {
      "image/png": "[encoded data removed]",
      "text/plain": [
       "<matplotlib.figure.Figure at 0x10cf8ce50>"
      ]
     },
     "metadata": {
      "image/png": {
       "height": 255,
       "width": 362
      }
     },
     "output_type": "display_data"
    }
   ],
   "source": [
    "from IPython.display import set_matplotlib_formats\n",
    "set_matplotlib_formats('retina')\n",
    "\n",
    "plt.plot(range(10))"
   ]
  },
  {
   "cell_type": "markdown",
   "metadata": {},
   "source": [
    "## Conclusion\n",
    "\n",
    "And with that, we've come to end of this lesson. We've just seen how to set up an IPython notebook to display matplotlib output, and we also learned just enough about Jupyter notebooks for us to be productive with it. We'll be using this combination of Jupyter notebook and IPython kernel to explore matplotlib for the rest of this course, so by the end, you should be quite comfortable with this extremely productive tool for data science. "
   ]
  }
 ],
 "metadata": {
  "kernelspec": {
   "display_name": "Python 2",
   "language": "python",
   "name": "python2"
  },
  "language_info": {
   "codemirror_mode": {
    "name": "ipython",
    "version": 2
   },
   "file_extension": ".py",
   "mimetype": "text/x-python",
   "name": "python",
   "nbconvert_exporter": "python",
   "pygments_lexer": "ipython2",
   "version": "2.7.11"
  }
 },
 "nbformat": 4,
 "nbformat_minor": 0
}
