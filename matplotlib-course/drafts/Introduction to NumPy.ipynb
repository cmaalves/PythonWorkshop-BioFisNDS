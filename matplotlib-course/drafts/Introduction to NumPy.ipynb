{
 "cells": [
  {
   "cell_type": "markdown",
   "metadata": {},
   "source": [
    "Being the de facto standard visualization library for python, the matplotlib library is used just about everywhere you see a data visualization created with the python language. That sometimes makes it hard to separate matplotlib from another library that just uses it under the hood to create a plot. That said, it is possible to learn matplotlib by itself without learning any other library, and in this course, I've gone to great lengths not to use any other library. I want you, the viewer, to walk away from this course with a deep understanding of matplotlib fundamentals. After that, any other library, such as pandas or seaborn, which we'll see later in this course, will be easy to pick up and use. \n",
    "\n",
    "There is one exception to this rule, however, and that is the [NumPy][1] library. The fact of the matter is, until NumPy came along, heavy number crunching was not within the realm of possiblity for python. The NumPy library changed all that and made libraries like matplotlib possible. As such, NumPy is the only required dependency of the matplotlib library. \n",
    "\n",
    "In this lesson, we'll take a slight detour, and learn the basics of the NumPy library so we can have a better understanding of what's going on under the hood of matplotlib. We'll also use a few of the functions that NumPy provides throughout this course, and I want everything you see in the code to be \n",
    "\n",
    "[1]: http://www.numpy.org/"
   ]
  },
  {
   "cell_type": "code",
   "execution_count": null,
   "metadata": {
    "collapsed": true
   },
   "outputs": [],
   "source": []
  }
 ],
 "metadata": {
  "kernelspec": {
   "display_name": "Python 2",
   "language": "python",
   "name": "python2"
  },
  "language_info": {
   "codemirror_mode": {
    "name": "ipython",
    "version": 2
   },
   "file_extension": ".py",
   "mimetype": "text/x-python",
   "name": "python",
   "nbconvert_exporter": "python",
   "pygments_lexer": "ipython2",
   "version": "2.7.11"
  }
 },
 "nbformat": 4,
 "nbformat_minor": 0
}
