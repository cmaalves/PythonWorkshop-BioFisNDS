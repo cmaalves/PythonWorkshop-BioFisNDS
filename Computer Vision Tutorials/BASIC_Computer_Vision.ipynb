{
 "metadata": {
  "name": "BASIC_Computer_Vision"
 },
 "nbformat": 3,
 "nbformat_minor": 0,
 "worksheets": [
  {
   "cells": [
    {
     "cell_type": "markdown",
     "metadata": {},
     "source": [
      "# Computer Vision Tasks, Technologies and Datasets Review"
     ]
    },
    {
     "cell_type": "markdown",
     "metadata": {},
     "source": [
      "## Computer Vision Tasks"
     ]
    },
    {
     "cell_type": "markdown",
     "metadata": {},
     "source": [
      "Resources\n",
      "\n",
      "1. [computer vision tasks](http://en.wikipedia.org/wiki/List_of_computer_vision_topics)\n",
      "2. [computer vision definition](http://en.wikipedia.org/wiki/Computer_vision)\n",
      "3. [Outline of object recognition](http://en.wikipedia.org/wiki/Object_Recognition)\n",
      "4. [Image segmentation](http://en.wikipedia.org/wiki/Image_segmentation)\n",
      "5. [Bag-of-words model in computer vision](http://en.wikipedia.org/wiki/Bag_of_words_model_in_computer_vision)\n",
      "6. [texture classification & LBP](http://en.wikipedia.org/wiki/Local_binary_patterns)"
     ]
    },
    {
     "cell_type": "code",
     "collapsed": false,
     "input": [],
     "language": "python",
     "metadata": {},
     "outputs": []
    }
   ],
   "metadata": {}
  }
 ]
}