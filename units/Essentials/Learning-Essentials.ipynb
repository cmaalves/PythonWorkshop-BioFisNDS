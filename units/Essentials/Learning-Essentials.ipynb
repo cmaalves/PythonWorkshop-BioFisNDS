{
 "cells": [
  {
   "cell_type": "markdown",
   "metadata": {},
   "source": [
    "# Some imports, ignore this for now :)"
   ]
  },
  {
   "cell_type": "code",
   "execution_count": 17,
   "metadata": {},
   "outputs": [],
   "source": [
    "import matplotlib.pyplot as plt"
   ]
  },
  {
   "cell_type": "markdown",
   "metadata": {},
   "source": [
    "# Creating a variable"
   ]
  },
  {
   "cell_type": "code",
   "execution_count": 10,
   "metadata": {},
   "outputs": [],
   "source": [
    "# Integer\n",
    "avengers_end_game_year = 2019\n",
    "# string\n",
    "favourite_avenger = \"Iron Man\"\n",
    "# list\n",
    "powerful_avengers = [favourite_avenger, \"Thor\", \"Black Widow\"]"
   ]
  },
  {
   "cell_type": "markdown",
   "metadata": {},
   "source": [
    "# Print"
   ]
  },
  {
   "cell_type": "code",
   "execution_count": 13,
   "metadata": {},
   "outputs": [
    {
     "name": "stdout",
     "output_type": "stream",
     "text": [
      "Hello\n",
      "My favourite avenger is Iron Man!\n",
      "The next avengers movie 'End Game' will be released in 2019.\n"
     ]
    }
   ],
   "source": [
    "print(\"Hello\")\n",
    "print(f\"My favourite avenger is {favourite_avenger}!\") # notice the f\"\" before the string starts\n",
    "print(f\"The next avengers movie 'End Game' will be released in {avengers_end_game_cinema}.\")"
   ]
  },
  {
   "cell_type": "markdown",
   "metadata": {},
   "source": [
    "# Loops"
   ]
  },
  {
   "cell_type": "code",
   "execution_count": 16,
   "metadata": {},
   "outputs": [
    {
     "name": "stdout",
     "output_type": "stream",
     "text": [
      "Strong avengers:\n",
      "Iron Man\n",
      "Thor\n",
      "Black Widow\n"
     ]
    }
   ],
   "source": [
    "print(\"Strong avengers:\")\n",
    "for avenger in powerful_avengers:\n",
    "    print(avenger)"
   ]
  },
  {
   "cell_type": "markdown",
   "metadata": {},
   "source": [
    "# Functions"
   ]
  },
  {
   "cell_type": "markdown",
   "metadata": {},
   "source": [
    " Let's say i want to create the function y = 2x and call it \"double\""
   ]
  },
  {
   "cell_type": "code",
   "execution_count": 24,
   "metadata": {},
   "outputs": [],
   "source": [
    "def double(x):\n",
    "    \"\"\"\n",
    "    This function returns the original input multiplied by two\n",
    "    \n",
    "    Parameters\n",
    "    ----------\n",
    "    x : integer\n",
    "        The desired number to be doubled\n",
    "    \n",
    "    Returns\n",
    "    -------\n",
    "    result : integer\n",
    "        The original number multiplied by two\n",
    "    \"\"\"\n",
    "    \n",
    "    result = 2*x\n",
    "    return result"
   ]
  },
  {
   "cell_type": "markdown",
   "metadata": {},
   "source": [
    "How do I use this function i have just created?"
   ]
  },
  {
   "cell_type": "code",
   "execution_count": 25,
   "metadata": {},
   "outputs": [
    {
     "name": "stdout",
     "output_type": "stream",
     "text": [
      "result of double(4) = 8\n"
     ]
    }
   ],
   "source": [
    "x = 4\n",
    "result = double(x)\n",
    "print(f\"result of double(4) = {result}\")"
   ]
  },
  {
   "cell_type": "markdown",
   "metadata": {},
   "source": [
    "This is cool but i want to see the result of this function on a set of points now"
   ]
  },
  {
   "cell_type": "code",
   "execution_count": 26,
   "metadata": {},
   "outputs": [
    {
     "name": "stdout",
     "output_type": "stream",
     "text": [
      "[1, 2, 3, 4, 5, 1, 2, 3, 4, 5]\n"
     ]
    }
   ],
   "source": [
    "x = [1, 2, 3, 4, 5]\n",
    "result = double(x)\n",
    "print(result)"
   ]
  },
  {
   "cell_type": "markdown",
   "metadata": {},
   "source": [
    "oops I didn't expect that... apparently if we multiply a list by two, we get back two lists in one.\n",
    "\n",
    "We might need to rewrite double(x) to be able to work on lists"
   ]
  },
  {
   "cell_type": "code",
   "execution_count": 28,
   "metadata": {},
   "outputs": [],
   "source": [
    "def double_list(x_list):\n",
    "    \n",
    "    # initialize new list\n",
    "    new_list = []\n",
    "    \n",
    "    # We will go through each element in x_list \n",
    "    # (and refer to each element as 'e')\n",
    "    for e in x:\n",
    "        # we double that number\n",
    "        double_e = double(e)\n",
    "        # and now we add to the new list\n",
    "        new_list.append(double_e) \n",
    "    \n",
    "    # finally let's return the new list\n",
    "    return new_list"
   ]
  },
  {
   "cell_type": "code",
   "execution_count": 29,
   "metadata": {},
   "outputs": [
    {
     "data": {
      "text/plain": [
       "[2, 4, 6, 8, 10]"
      ]
     },
     "execution_count": 29,
     "metadata": {},
     "output_type": "execute_result"
    }
   ],
   "source": [
    "x = [1, 2, 3, 4, 5]\n",
    "double_list(x)"
   ]
  },
  {
   "cell_type": "markdown",
   "metadata": {},
   "source": [
    "Sweet!"
   ]
  },
  {
   "cell_type": "code",
   "execution_count": null,
   "metadata": {},
   "outputs": [],
   "source": []
  }
 ],
 "metadata": {
  "kernelspec": {
   "display_name": "Python 3",
   "language": "python",
   "name": "python3"
  },
  "language_info": {
   "codemirror_mode": {
    "name": "ipython",
    "version": 3
   },
   "file_extension": ".py",
   "mimetype": "text/x-python",
   "name": "python",
   "nbconvert_exporter": "python",
   "pygments_lexer": "ipython3",
   "version": "3.6.8"
  }
 },
 "nbformat": 4,
 "nbformat_minor": 2
}
